{
 "cells": [
  {
   "cell_type": "markdown",
   "metadata": {},
   "source": [
    "### Proof of concept.\n",
    "Further info [here](https://math.stackexchange.com/a/974358)"
   ]
  },
  {
   "cell_type": "code",
   "execution_count": 5,
   "metadata": {},
   "outputs": [],
   "source": [
    "import numpy as np\n",
    "\n",
    "def get_inverse_sigma(s, shape):\n",
    "  sigma = np.zeros(shape).T\n",
    "  for i in range(len(s)):\n",
    "    sigma[i][i] = 1/s[i]\n",
    "  return sigma\n",
    "\n",
    "def svd_least_squares(A,b):\n",
    "  u, s, vt = np.linalg.svd(A)\n",
    "  sInv = get_inverse_sigma(s, A.shape)\n",
    "  x = np.matmul(np.matmul(np.matmul(vt.T, sInv),u.T), b)\n",
    "  return x"
   ]
  },
  {
   "cell_type": "code",
   "execution_count": 6,
   "metadata": {},
   "outputs": [],
   "source": [
    "A = np.array([[1, 0, 0],\n",
    "              [0, 1, 0],\n",
    "              [0, 0, 1],\n",
    "              [-1,1, 0],\n",
    "              [0,-1, 0],\n",
    "              [-1,0, 1]])\n",
    "\n",
    "b = np.array([1, 2, 3, 1, 2, 1])\n",
    "\n",
    "\n",
    "x = svd_least_squares(A,b)"
   ]
  },
  {
   "cell_type": "code",
   "execution_count": 8,
   "metadata": {},
   "outputs": [
    {
     "data": {
      "text/plain": [
       "array([ 0.0000000e+00,  4.4408921e-16, -4.4408921e-16])"
      ]
     },
     "execution_count": 8,
     "metadata": {},
     "output_type": "execute_result"
    }
   ],
   "source": [
    "# Verificar que el residuo es ortogonal a las columnas de la matriz A.\n",
    "residuo = b - np.matmul(A, x)\n",
    "np.matmul(A.T, residuo) # multiplicar al resultado por las columnas deberia dar cerca de cero\n"
   ]
  }
 ],
 "metadata": {
  "kernelspec": {
   "display_name": "Python 2",
   "language": "python",
   "name": "python2"
  },
  "language_info": {
   "codemirror_mode": {
    "name": "ipython",
    "version": 2
   },
   "file_extension": ".py",
   "mimetype": "text/x-python",
   "name": "python",
   "nbconvert_exporter": "python",
   "pygments_lexer": "ipython2",
   "version": "2.7.10"
  }
 },
 "nbformat": 4,
 "nbformat_minor": 2
}
