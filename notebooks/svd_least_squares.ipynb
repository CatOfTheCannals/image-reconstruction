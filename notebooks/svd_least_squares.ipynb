{
 "cells": [
  {
   "cell_type": "markdown",
   "metadata": {},
   "source": [
    "### Proof of concept.\n",
    "####  [Click me I am math!](https://math.stackexchange.com/a/974358)"
   ]
  },
  {
   "cell_type": "code",
   "execution_count": 95,
   "metadata": {},
   "outputs": [],
   "source": [
    "import numpy as np\n",
    "\n",
    "def get_inverse_sigma(s, shape):\n",
    "    sigma = np.zeros(shape).T\n",
    "    for i in range(len(s)):\n",
    "        sigma[i][i] = 1/s[i]\n",
    "    return sigma\n",
    "\n",
    "def svd_least_squares(A,b):\n",
    "    u, s, vt = np.linalg.svd(A)\n",
    "    sInv = get_inverse_sigma(s, A.shape)\n",
    "    x = np.matmul(np.matmul(np.matmul(vt.T, sInv),u.T), b)\n",
    "    return x\n",
    "\n",
    "def apply_inverse_sigma(s, A, rows):\n",
    "    res = np.array(A[:rows])\n",
    "    for i, singular_value in enumerate(s):\n",
    "        res[i] = res[i] / singular_value\n",
    "    return res\n",
    "\n",
    "def svd_least_squares_cheaper(A,b):\n",
    "    u, s, vt = np.linalg.svd(A)\n",
    "    A_cols = A.shape[1]\n",
    "    # print('sInv_ut_b {}'.format(apply_inverse_sigma(s, u.T).shape))\n",
    "    sInv_ut = apply_inverse_sigma(s, u.T, A_cols)\n",
    "    x = np.matmul(np.matmul(vt.T, sInv_ut), b)\n",
    "    return x"
   ]
  },
  {
   "cell_type": "code",
   "execution_count": 96,
   "metadata": {},
   "outputs": [],
   "source": [
    "A = np.array([[1, 0, 0],\n",
    "              [0, 1, 0],\n",
    "              [0, 0, 1],\n",
    "              [-1,1, 0],\n",
    "              [0,-1, 0],\n",
    "              [-1,0, 1]])\n",
    "\n",
    "b = np.array([1, 2, 3, 1, 2, 1])\n",
    "\n",
    "\n",
    "x = svd_least_squares_cheaper(A,b)\n",
    "\n"
   ]
  },
  {
   "cell_type": "code",
   "execution_count": 102,
   "metadata": {},
   "outputs": [
    {
     "data": {
      "text/plain": [
       "array([-2.22044605e-16,  2.22044605e-16,  0.00000000e+00])"
      ]
     },
     "execution_count": 102,
     "metadata": {},
     "output_type": "execute_result"
    }
   ],
   "source": [
    "from numpy.linalg import solve\n",
    "\n",
    "ne_x = solve(np.matmul(A.T, A), np.matmul(A.T, b))\n",
    "\n",
    "ne_x - x"
   ]
  },
  {
   "cell_type": "code",
   "execution_count": 97,
   "metadata": {},
   "outputs": [
    {
     "data": {
      "text/plain": [
       "array([-6.66133815e-16,  8.88178420e-16, -2.22044605e-16])"
      ]
     },
     "execution_count": 97,
     "metadata": {},
     "output_type": "execute_result"
    }
   ],
   "source": [
    "# Verificar que el residuo es ortogonal a las columnas de la matriz A.\n",
    "residuo = b - np.matmul(A, x)\n",
    "np.matmul(A.T, residuo) # multiplicar al resultado por las columnas deberia dar cerca de cero\n"
   ]
  }
 ],
 "metadata": {
  "kernelspec": {
   "display_name": "Python 2",
   "language": "python",
   "name": "python2"
  },
  "language_info": {
   "codemirror_mode": {
    "name": "ipython",
    "version": 2
   },
   "file_extension": ".py",
   "mimetype": "text/x-python",
   "name": "python",
   "nbconvert_exporter": "python",
   "pygments_lexer": "ipython2",
   "version": "2.7.10"
  }
 },
 "nbformat": 4,
 "nbformat_minor": 2
}
