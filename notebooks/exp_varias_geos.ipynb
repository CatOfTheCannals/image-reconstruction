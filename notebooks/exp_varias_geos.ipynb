{
 "cells": [
  {
   "cell_type": "code",
   "execution_count": 31,
   "metadata": {},
   "outputs": [],
   "source": [
    "import re\n",
    "import numpy as np\n",
    "\n",
    "def read_pgm(filename, byteorder='>'):\n",
    "    \"\"\"Return image data from a raw PGM file as np array.\n",
    "\n",
    "    Format specification: http://netpbm.sourceforge.net/doc/pgm.html\n",
    "\n",
    "    \"\"\"\n",
    "    with open(filename, 'rb') as f:\n",
    "        buffer = f.read()\n",
    "    try:\n",
    "        header, width, height, maxval = re.search(\n",
    "            b\"(^P5\\s(?:\\s*#.*[\\r\\n])*\"\n",
    "            b\"(\\d+)\\s(?:\\s*#.*[\\r\\n])*\"\n",
    "            b\"(\\d+)\\s(?:\\s*#.*[\\r\\n])*\"\n",
    "            b\"(\\d+)\\s(?:\\s*#.*[\\r\\n]\\s)*)\", buffer).groups()\n",
    "    except AttributeError:\n",
    "        raise ValueError(\"Not a raw PGM file: '%s'\" % filename)\n",
    "    return np.frombuffer(buffer,\n",
    "                            dtype='u1' if int(maxval) < 256 else byteorder+'u2',\n",
    "                            count=int(width)*int(height),\n",
    "                            offset=len(header)\n",
    "                            ).reshape((int(height), int(width)))\n",
    "\n",
    "def resizeImage(image, newSize):\n",
    "    a = image.shape[0]\n",
    "    b = newSize\n",
    "    ratio = a/b\n",
    "    resizeAToB= np.zeros((a,b))\n",
    "    for i in range(a):\n",
    "        for j in range(b): \n",
    "            if i//ratio == j:\n",
    "                resizeAToB[i,j] = 1. / ratio\n",
    "    return np.matmul(resizeAToB.T, np.matmul(image, resizeAToB))\n",
    "\n",
    "def flatten_list_of_strings(args):\n",
    "    return reduce(lambda x,y: x +' '+y, args)"
   ]
  },
  {
   "cell_type": "code",
   "execution_count": 32,
   "metadata": {},
   "outputs": [],
   "source": [
    "from subprocess import Popen, PIPE\n",
    "\n",
    "class ExpRunner():\n",
    "\n",
    "    def __init__(self, input_image_path, discretization_n, amount_of_rays, random_noise, exp_list):\n",
    "        self.input_image_path = input_image_path\n",
    "        self.discretization_n = discretization_n\n",
    "        self.amount_of_rays = amount_of_rays\n",
    "        self.random_noise = random_noise\n",
    "        self.exp_list = exp_list\n",
    "        \n",
    "        self.run_logs = {}\n",
    "\n",
    "    def setup_args(self):\n",
    "\n",
    "        tp_exec = '../build/tp3'\n",
    "        self.exp_name = flatten_list_of_strings(self.exp_list)\n",
    "\n",
    "        self.output_image_name = \"{}_{}_celdas_{}_ruido_{}_rayos\".format(\n",
    "                self.exp_name, self.discretization_n, self.random_noise, self.amount_of_rays)\n",
    "\n",
    "        output_image_dir = \"../results/\"\n",
    "\n",
    "        self.output_image_path = output_image_dir + \"\\\"\" + self.output_image_name + '.pgm\\\"'\n",
    "        self.output_image_path = self.output_image_path.replace(' ', '_')\n",
    "\n",
    "        self.args = [tp_exec, \"-i\", str(self.input_image_path), \"-o\", str(self.output_image_path), \n",
    "                \"-n\", str(self.discretization_n), \"-r\", str(self.random_noise)]\n",
    "        for exp in self.exp_list:\n",
    "            if 'g15' in exp or 'g14' in exp:\n",
    "                self.args.extend(exp.split())\n",
    "                self.args.append(str(self.amount_of_rays//len(self.exp_list)))\n",
    "            else:\n",
    "                self.args.extend([exp, str(self.amount_of_rays//len(self.exp_list))])\n",
    "        \n",
    "        print(self.args)\n",
    "    \n",
    "    \n",
    "    def run_executable(self):\n",
    "        p = Popen(self.args, stdout=PIPE, bufsize=1)\n",
    "        with p.stdout:\n",
    "            for line in iter(p.stdout.readline, b''):\n",
    "                try:\n",
    "                    key, val = line[:-1].split(': ')\n",
    "                    if key in ['error','debug']:\n",
    "                        print(line)\n",
    "                    elif key in ['csv']:\n",
    "                        pass\n",
    "                    else:\n",
    "                        self.run_logs[key] = float(val)\n",
    "                except:\n",
    "                    print('COMANDO FEO: {}'.format(line))\n",
    "        p.wait() # wait for the subprocess to exit\n",
    "\n",
    "    def print_run_logs(self):\n",
    "        print(self.run_logs)\n",
    "\n",
    "    def run_exp(self):\n",
    "\n",
    "        self.setup_args()\n",
    "\n",
    "        self.run_executable()\n",
    "\n",
    "        print(self.output_image_path)\n",
    "        output_image = read_pgm(self.output_image_path)  # .reshape(-1)\n",
    "        process_data = {'discretization_n':float(self.discretization_n), \n",
    "                'random_noise': float(self.random_noise),\n",
    "                'rayos': float(self.amount_of_rays),\n",
    "                'image': output_image,\n",
    "                'exp_name': self.exp_name,\n",
    "                'output_image_name': self.output_image_name}\n",
    "\n",
    "\n",
    "        return dict(self.run_logs, **process_data)"
   ]
  },
  {
   "cell_type": "markdown",
   "metadata": {},
   "source": [
    "#### Run exp"
   ]
  },
  {
   "cell_type": "code",
   "execution_count": 48,
   "metadata": {
    "scrolled": true
   },
   "outputs": [
    {
     "name": "stdout",
     "output_type": "stream",
     "text": [
      "['../build/tp3', '-i', '../imgs_TC/tomo.pgm', '-o', '../results/\"-g4_25_celdas_0_ruido_5000_rayos.pgm\"', '-n', '25', '-r', '0', '-g4', '5000']\n",
      "debug: Ejecutando analisis tomografico.\n",
      "\n",
      "debug: Matrices de rayos creadas.\n",
      "\n",
      "debug: Factorizacion SVD calculada.\n",
      "\n",
      "debug: analisis executed\n",
      "\n",
      "debug: analisis executed\n",
      "\n",
      "debug: analisis executed\n",
      "\n",
      "debug: analisis executed\n",
      "\n",
      "debug: analisis executed\n",
      "\n",
      "debug: analisis executed\n",
      "\n",
      "../results/\"-g4_25_celdas_0_ruido_5000_rayos.pgm\"\n",
      "{'tiempo_armado_matrices': 61157.0, 'numero_de_condicion': inf, 'tiempo_rayos': 295.0, 'tiempo_autovectores': 21754200.0, 'tiempo_cml': 2403.0}\n"
     ]
    },
    {
     "data": {
      "text/html": [
       "<div>\n",
       "<style scoped>\n",
       "    .dataframe tbody tr th:only-of-type {\n",
       "        vertical-align: middle;\n",
       "    }\n",
       "\n",
       "    .dataframe tbody tr th {\n",
       "        vertical-align: top;\n",
       "    }\n",
       "\n",
       "    .dataframe thead th {\n",
       "        text-align: right;\n",
       "    }\n",
       "</style>\n",
       "<table border=\"1\" class=\"dataframe\">\n",
       "  <thead>\n",
       "    <tr style=\"text-align: right;\">\n",
       "      <th></th>\n",
       "      <th>discretization_n</th>\n",
       "      <th>exp_name</th>\n",
       "      <th>image</th>\n",
       "      <th>numero_de_condicion</th>\n",
       "      <th>output_image_name</th>\n",
       "      <th>random_noise</th>\n",
       "      <th>rayos</th>\n",
       "      <th>tiempo_armado_matrices</th>\n",
       "      <th>tiempo_autovectores</th>\n",
       "      <th>tiempo_cml</th>\n",
       "      <th>tiempo_rayos</th>\n",
       "    </tr>\n",
       "  </thead>\n",
       "  <tbody>\n",
       "    <tr>\n",
       "      <th>0</th>\n",
       "      <td>25.0</td>\n",
       "      <td>-g4</td>\n",
       "      <td>[[0, 0, 0, 0, 0, 0, 0, 0, 0, 0, 0, 0, 0, 0, 0,...</td>\n",
       "      <td>inf</td>\n",
       "      <td>-g4_25_celdas_0_ruido_5000_rayos</td>\n",
       "      <td>0.0</td>\n",
       "      <td>5000.0</td>\n",
       "      <td>61157.0</td>\n",
       "      <td>21754200.0</td>\n",
       "      <td>2403.0</td>\n",
       "      <td>295.0</td>\n",
       "    </tr>\n",
       "  </tbody>\n",
       "</table>\n",
       "</div>"
      ],
      "text/plain": [
       "   discretization_n exp_name  \\\n",
       "0              25.0      -g4   \n",
       "\n",
       "                                               image  numero_de_condicion  \\\n",
       "0  [[0, 0, 0, 0, 0, 0, 0, 0, 0, 0, 0, 0, 0, 0, 0,...                  inf   \n",
       "\n",
       "                  output_image_name  random_noise   rayos  \\\n",
       "0  -g4_25_celdas_0_ruido_5000_rayos           0.0  5000.0   \n",
       "\n",
       "   tiempo_armado_matrices  tiempo_autovectores  tiempo_cml  tiempo_rayos  \n",
       "0                 61157.0           21754200.0      2403.0         295.0  "
      ]
     },
     "execution_count": 48,
     "metadata": {},
     "output_type": "execute_result"
    }
   ],
   "source": [
    "input_image_path = \"../imgs_TC/tomo.pgm\"\n",
    "divisors_of_100 = [25]\n",
    "import pandas as pd\n",
    "output = []\n",
    "for div in divisors_of_100:\n",
    "    exp_names = [['-g4']]\n",
    "    # exp_names.extend([['-g14b '+focos+' -g14a'] for focos in ['50']])\n",
    "    for exp in exp_names:\n",
    "        for random in [0]:        \n",
    "            for amount_of_rays in [5000]:\n",
    "                e = ExpRunner(input_image_path, div, amount_of_rays, random, exp)\n",
    "                output.append(e.run_exp())               \n",
    "                e.print_run_logs()\n",
    "\n",
    "outputs_df = pd.DataFrame(output)\n",
    "outputs_df.head()"
   ]
  },
  {
   "cell_type": "markdown",
   "metadata": {},
   "source": [
    "#### Input images"
   ]
  },
  {
   "cell_type": "code",
   "execution_count": 35,
   "metadata": {},
   "outputs": [
    {
     "data": {
      "image/png": "[encoded data removed]",
      "text/plain": [
       "<matplotlib.figure.Figure at 0x105fae6d0>"
      ]
     },
     "metadata": {},
     "output_type": "display_data"
    },
    {
     "data": {
      "image/png": "[encoded data removed]",
      "text/plain": [
       "<matplotlib.figure.Figure at 0x1063c02d0>"
      ]
     },
     "metadata": {},
     "output_type": "display_data"
    },
    {
     "data": {
      "image/png": "[encoded data removed]",
      "text/plain": [
       "<matplotlib.figure.Figure at 0x1064d2410>"
      ]
     },
     "metadata": {},
     "output_type": "display_data"
    }
   ],
   "source": [
    "from matplotlib import pyplot \n",
    "input_image_path = \"../imgs_TC/tomo.pgm\"\n",
    "input_image = read_pgm(input_image_path, byteorder='<')\n",
    "divisors = [20,25,50]\n",
    "resized_input_images = {div: resizeImage(input_image, div) for div in divisors}\n",
    "for div in divisors:    \n",
    "    resized_input_image = resized_input_images[div]\n",
    "    pyplot.imshow(resized_input_image, pyplot.cm.gray)\n",
    "    pyplot.savefig('./resized_tomo{}x{}.png'.format(div,div))\n",
    "    pyplot.show()\n",
    "    "
   ]
  },
  {
   "cell_type": "markdown",
   "metadata": {},
   "source": [
    "#### Reconstructed images"
   ]
  },
  {
   "cell_type": "code",
   "execution_count": 36,
   "metadata": {},
   "outputs": [
    {
     "data": {
      "image/png": "[encoded data removed]",
      "text/plain": [
       "<matplotlib.figure.Figure at 0x1057ff4d0>"
      ]
     },
     "metadata": {},
     "output_type": "display_data"
    }
   ],
   "source": [
    "image_and_metadata_headers = ['image', 'output_image_name']\n",
    "for i,row in outputs_df[image_and_metadata_headers].iterrows():\n",
    "    output_image_name = row['output_image_name']\n",
    "    pyplot.title(output_image_name)\n",
    "    pyplot.imshow(row['image'], pyplot.cm.gray)\n",
    "    pyplot.show()\n",
    "\n"
   ]
  },
  {
   "cell_type": "markdown",
   "metadata": {},
   "source": [
    "#### Compute mean squared error"
   ]
  },
  {
   "cell_type": "code",
   "execution_count": 37,
   "metadata": {
    "scrolled": true
   },
   "outputs": [
    {
     "data": {
      "text/html": [
       "<div>\n",
       "<style scoped>\n",
       "    .dataframe tbody tr th:only-of-type {\n",
       "        vertical-align: middle;\n",
       "    }\n",
       "\n",
       "    .dataframe tbody tr th {\n",
       "        vertical-align: top;\n",
       "    }\n",
       "\n",
       "    .dataframe thead th {\n",
       "        text-align: right;\n",
       "    }\n",
       "</style>\n",
       "<table border=\"1\" class=\"dataframe\">\n",
       "  <thead>\n",
       "    <tr style=\"text-align: right;\">\n",
       "      <th></th>\n",
       "      <th>discretization_n</th>\n",
       "      <th>exp_name</th>\n",
       "      <th>image</th>\n",
       "      <th>numero_de_condicion</th>\n",
       "      <th>output_image_name</th>\n",
       "      <th>random_noise</th>\n",
       "      <th>rayos</th>\n",
       "      <th>tiempo_armado_matrices</th>\n",
       "      <th>tiempo_autovectores</th>\n",
       "      <th>tiempo_cml</th>\n",
       "      <th>tiempo_rayos</th>\n",
       "      <th>mse_vs_benchmark</th>\n",
       "    </tr>\n",
       "  </thead>\n",
       "  <tbody>\n",
       "    <tr>\n",
       "      <th>0</th>\n",
       "      <td>25.0</td>\n",
       "      <td>-g4</td>\n",
       "      <td>[[0, 0, 0, 0, 0, 0, 0, 0, 0, 0, 0, 0, 0, 0, 0,...</td>\n",
       "      <td>inf</td>\n",
       "      <td>-g4_25_celdas_0_ruido_5000_rayos</td>\n",
       "      <td>0.0</td>\n",
       "      <td>5000.0</td>\n",
       "      <td>54216.0</td>\n",
       "      <td>20843200.0</td>\n",
       "      <td>2136.0</td>\n",
       "      <td>372.0</td>\n",
       "      <td>15470.883475</td>\n",
       "    </tr>\n",
       "  </tbody>\n",
       "</table>\n",
       "</div>"
      ],
      "text/plain": [
       "   discretization_n exp_name  \\\n",
       "0              25.0      -g4   \n",
       "\n",
       "                                               image  numero_de_condicion  \\\n",
       "0  [[0, 0, 0, 0, 0, 0, 0, 0, 0, 0, 0, 0, 0, 0, 0,...                  inf   \n",
       "\n",
       "                  output_image_name  random_noise   rayos  \\\n",
       "0  -g4_25_celdas_0_ruido_5000_rayos           0.0  5000.0   \n",
       "\n",
       "   tiempo_armado_matrices  tiempo_autovectores  tiempo_cml  tiempo_rayos  \\\n",
       "0                 54216.0           20843200.0      2136.0         372.0   \n",
       "\n",
       "   mse_vs_benchmark  \n",
       "0      15470.883475  "
      ]
     },
     "execution_count": 37,
     "metadata": {},
     "output_type": "execute_result"
    }
   ],
   "source": [
    "from sklearn.metrics import mean_squared_error\n",
    "def mse_vs_benchmark(resized_input_images, output_img):\n",
    "    output_img = output_img.reshape(-1)\n",
    "    div = np.sqrt(len(output_img))\n",
    "    resized_input_image = resized_input_images[div].reshape(-1)\n",
    "    return mean_squared_error(resized_input_image, output_img)\n",
    "\n",
    "from functools import partial\n",
    "mse_vs_resized_input_images = partial(mse_vs_benchmark,resized_input_images)\n",
    "\n",
    "outputs_df['mse_vs_benchmark'] = outputs_df['image'].map(mse_vs_resized_input_images)\n",
    "outputs_df.head()"
   ]
  },
  {
   "cell_type": "code",
   "execution_count": 38,
   "metadata": {},
   "outputs": [
    {
     "name": "stdout",
     "output_type": "stream",
     "text": [
      "rayos vs time plots\n"
     ]
    },
    {
     "ename": "KeyError",
     "evalue": "\"Columns not found: 'tiempo_geometria_microseconds', 'tiempo_cml_microseconds', 'tiempo_matrices_microseconds'\"",
     "output_type": "error",
     "traceback": [
      "\u001b[0;31m---------------------------------------------------------------------------\u001b[0m",
      "\u001b[0;31mKeyError\u001b[0m                                  Traceback (most recent call last)",
      "\u001b[0;32m<ipython-input-38-a1e34cba9810>\u001b[0m in \u001b[0;36m<module>\u001b[0;34m()\u001b[0m\n\u001b[1;32m     22\u001b[0m         \u001b[0mexp_filtered\u001b[0m\u001b[0;34m.\u001b[0m\u001b[0mplot\u001b[0m\u001b[0;34m(\u001b[0m\u001b[0mparam_key\u001b[0m\u001b[0;34m,\u001b[0m \u001b[0mtime_keys\u001b[0m\u001b[0;34m,\u001b[0m\u001b[0mtitle\u001b[0m\u001b[0;34m=\u001b[0m\u001b[0mtitle\u001b[0m\u001b[0;34m)\u001b[0m\u001b[0;34m\u001b[0m\u001b[0m\n\u001b[1;32m     23\u001b[0m \u001b[0;34m\u001b[0m\u001b[0m\n\u001b[0;32m---> 24\u001b[0;31m \u001b[0mplot_param_vs_times_per_exp\u001b[0m\u001b[0;34m(\u001b[0m\u001b[0moutputs_df\u001b[0m\u001b[0;34m,\u001b[0m \u001b[0;34m'rayos'\u001b[0m\u001b[0;34m)\u001b[0m\u001b[0;34m\u001b[0m\u001b[0m\n\u001b[0m",
      "\u001b[0;32m<ipython-input-38-a1e34cba9810>\u001b[0m in \u001b[0;36mplot_param_vs_times_per_exp\u001b[0;34m(outputs_df, param_key)\u001b[0m\n\u001b[1;32m     16\u001b[0m     \u001b[0;32mfor\u001b[0m \u001b[0mexp_name\u001b[0m \u001b[0;32min\u001b[0m \u001b[0mset\u001b[0m\u001b[0;34m(\u001b[0m\u001b[0moutputs_df\u001b[0m\u001b[0;34m[\u001b[0m\u001b[0;34m'exp_name'\u001b[0m\u001b[0;34m]\u001b[0m\u001b[0;34m)\u001b[0m\u001b[0;34m:\u001b[0m\u001b[0;34m\u001b[0m\u001b[0m\n\u001b[1;32m     17\u001b[0m         \u001b[0mexp_filtered\u001b[0m \u001b[0;34m=\u001b[0m \u001b[0moutputs_df\u001b[0m\u001b[0;34m[\u001b[0m\u001b[0;34m(\u001b[0m\u001b[0moutputs_df\u001b[0m\u001b[0;34m[\u001b[0m\u001b[0;34m'exp_name'\u001b[0m\u001b[0;34m]\u001b[0m \u001b[0;34m==\u001b[0m \u001b[0mexp_name\u001b[0m\u001b[0;34m)\u001b[0m\u001b[0;34m]\u001b[0m\u001b[0;34m\u001b[0m\u001b[0m\n\u001b[0;32m---> 18\u001b[0;31m         \u001b[0mexp_filtered\u001b[0m \u001b[0;34m=\u001b[0m \u001b[0mexp_filtered\u001b[0m\u001b[0;34m.\u001b[0m\u001b[0mgroupby\u001b[0m\u001b[0;34m(\u001b[0m\u001b[0;34m[\u001b[0m\u001b[0mparam_key\u001b[0m\u001b[0;34m]\u001b[0m\u001b[0;34m,\u001b[0m\u001b[0mas_index\u001b[0m\u001b[0;34m=\u001b[0m\u001b[0mFalse\u001b[0m\u001b[0;34m)\u001b[0m\u001b[0;34m[\u001b[0m\u001b[0mtime_keys\u001b[0m\u001b[0;34m]\u001b[0m\u001b[0;34m.\u001b[0m\u001b[0mmean\u001b[0m\u001b[0;34m(\u001b[0m\u001b[0;34m)\u001b[0m\u001b[0;34m\u001b[0m\u001b[0m\n\u001b[0m\u001b[1;32m     19\u001b[0m \u001b[0;34m\u001b[0m\u001b[0m\n\u001b[1;32m     20\u001b[0m         \u001b[0mtitle\u001b[0m \u001b[0;34m=\u001b[0m \u001b[0;34m'exp_name_{}_{}_vs_time'\u001b[0m\u001b[0;34m.\u001b[0m\u001b[0mformat\u001b[0m\u001b[0;34m(\u001b[0m\u001b[0mexp_name\u001b[0m\u001b[0;34m,\u001b[0m\u001b[0mparam_key\u001b[0m\u001b[0;34m)\u001b[0m\u001b[0;34m\u001b[0m\u001b[0m\n",
      "\u001b[0;32m/Users/cgiudice/ENV/lib/python2.7/site-packages/pandas/core/base.pyc\u001b[0m in \u001b[0;36m__getitem__\u001b[0;34m(self, key)\u001b[0m\n\u001b[1;32m    255\u001b[0m                 \u001b[0mbad_keys\u001b[0m \u001b[0;34m=\u001b[0m \u001b[0mlist\u001b[0m\u001b[0;34m(\u001b[0m\u001b[0mset\u001b[0m\u001b[0;34m(\u001b[0m\u001b[0mkey\u001b[0m\u001b[0;34m)\u001b[0m\u001b[0;34m.\u001b[0m\u001b[0mdifference\u001b[0m\u001b[0;34m(\u001b[0m\u001b[0mself\u001b[0m\u001b[0;34m.\u001b[0m\u001b[0mobj\u001b[0m\u001b[0;34m.\u001b[0m\u001b[0mcolumns\u001b[0m\u001b[0;34m)\u001b[0m\u001b[0;34m)\u001b[0m\u001b[0;34m\u001b[0m\u001b[0m\n\u001b[1;32m    256\u001b[0m                 raise KeyError(\"Columns not found: {missing}\"\n\u001b[0;32m--> 257\u001b[0;31m                                .format(missing=str(bad_keys)[1:-1]))\n\u001b[0m\u001b[1;32m    258\u001b[0m             \u001b[0;32mreturn\u001b[0m \u001b[0mself\u001b[0m\u001b[0;34m.\u001b[0m\u001b[0m_gotitem\u001b[0m\u001b[0;34m(\u001b[0m\u001b[0mlist\u001b[0m\u001b[0;34m(\u001b[0m\u001b[0mkey\u001b[0m\u001b[0;34m)\u001b[0m\u001b[0;34m,\u001b[0m \u001b[0mndim\u001b[0m\u001b[0;34m=\u001b[0m\u001b[0;36m2\u001b[0m\u001b[0;34m)\u001b[0m\u001b[0;34m\u001b[0m\u001b[0m\n\u001b[1;32m    259\u001b[0m \u001b[0;34m\u001b[0m\u001b[0m\n",
      "\u001b[0;31mKeyError\u001b[0m: \"Columns not found: 'tiempo_geometria_microseconds', 'tiempo_cml_microseconds', 'tiempo_matrices_microseconds'\""
     ]
    }
   ],
   "source": [
    "from textwrap import wrap\n",
    "def plot_param_vs_mse_per_exp(outputs_df, param_key):\n",
    "    print('{} vs {} plots'.format(param_key, 'mse_vs_benchmark'))\n",
    "    for exp_name in set(outputs_df['exp_name']):\n",
    "        exp_filtered = outputs_df[(outputs_df['exp_name'] == exp_name)]\n",
    "\n",
    "        exp_filtered = exp_filtered.groupby([param_key],as_index=False)['mse_vs_benchmark'].mean()\n",
    "\n",
    "        title = 'exp_name_{}_{}_vs_{}'.format(exp_name,param_key, 'mse_vs_benchmark')\n",
    "        title = \"\\n\".join(wrap(title, 30))\n",
    "        exp_filtered.plot(param_key, 'mse_vs_benchmark',title=title)\n",
    "\n",
    "def plot_param_vs_times_per_exp(outputs_df, param_key):\n",
    "    time_keys = ['tiempo_cml_microseconds', 'tiempo_geometria_microseconds', 'tiempo_matrices_microseconds']\n",
    "    print('{} vs time plots'.format(param_key))\n",
    "    for exp_name in set(outputs_df['exp_name']):\n",
    "        exp_filtered = outputs_df[(outputs_df['exp_name'] == exp_name)]\n",
    "        exp_filtered = exp_filtered.groupby([param_key],as_index=False)[time_keys].mean()\n",
    "\n",
    "        title = 'exp_name_{}_{}_vs_time'.format(exp_name,param_key)\n",
    "        title = \"\\n\".join(wrap(title, 30))\n",
    "        exp_filtered.plot(param_key, time_keys,title=title)\n",
    "\n",
    "plot_param_vs_times_per_exp(outputs_df, 'rayos')"
   ]
  },
  {
   "cell_type": "code",
   "execution_count": null,
   "metadata": {
    "scrolled": false
   },
   "outputs": [],
   "source": [
    "plot_param_vs_mse_per_exp(outputs_df, 'rayos')\n",
    "plot_param_vs_mse_per_exp(outputs_df, 'discretization_n')\n",
    "plot_param_vs_mse_per_exp(outputs_df, 'random_noise')"
   ]
  },
  {
   "cell_type": "code",
   "execution_count": null,
   "metadata": {},
   "outputs": [],
   "source": [
    "pd.options.mode.chained_assignment = None\n",
    "from textwrap import wrap\n",
    "time_keys = ['tiempo_cml_microseconds', 'tiempo_geometria_microseconds', 'tiempo_matrices_microseconds']\n",
    "\n",
    "for exp_name in set(outputs_df['exp_name']):\n",
    "    exp_filtered = outputs_df[(outputs_df['exp_name'] == exp_name)]\n",
    "    exp_filtered['time'] = exp_filtered['tiempo_cml_microseconds'] + exp_filtered['tiempo_geometria_microseconds'] + exp_filtered['tiempo_matrices_microseconds']\n",
    "    title =  '{}_time_and_noise_vs_mse'.format(exp_name)\n",
    "    title = \"\\n\".join(wrap(title, 30))\n",
    "    fig, ax = plt.subplots()\n",
    "    exp_filtered.plot.scatter(x='rayos',y='random_noise', c='mse_vs_benchmark',title=title, legend=True, cmap=\"cool\",ax=ax);\n"
   ]
  }
 ],
 "metadata": {
  "kernelspec": {
   "display_name": "Python 2",
   "language": "python",
   "name": "python2"
  },
  "language_info": {
   "codemirror_mode": {
    "name": "ipython",
    "version": 2
   },
   "file_extension": ".py",
   "mimetype": "text/x-python",
   "name": "python",
   "nbconvert_exporter": "python",
   "pygments_lexer": "ipython2",
   "version": "2.7.10"
  }
 },
 "nbformat": 4,
 "nbformat_minor": 2
}
